{
 "cells": [
  {
   "cell_type": "code",
   "execution_count": null,
   "id": "7ea09d47-31f5-4d96-9789-653655901792",
   "metadata": {},
   "outputs": [],
   "source": [
    "\n",
    "\n",
    "def cal_stats(data):\n",
    "    import numpy as np\n",
    "    import pandas as pd\n",
    "    import matplotlib.pyplot as plt\n",
    "    import seaborn as sns\n",
    "    import statistics\n",
    "    total_sum=sum(data)\n",
    "    print('Total:',total_sum)\n",
    "    \n",
    "    count=len(data)\n",
    "    print('Total Count:',count)\n",
    "    \n",
    "    maximum=max(data)\n",
    "    print('Max:',maximum)\n",
    "    \n",
    "    minimum=min(data)\n",
    "    print('Min:',minimum)\n",
    "    \n",
    "    ran=maximum-minimum\n",
    "    print('Range:',ran)\n",
    "    \n",
    "    avg= np.mean(data)\n",
    "    print('Average',avg)\n",
    "    \n",
    "    mid=np.median(data)\n",
    "    print('Median:',mid)\n",
    "    \n",
    "    mod=statistics.mode(data)\n",
    "    print('Mode:',mod)\n",
    "    \n",
    "    vary=np.var(data)\n",
    "    print('Variance:',vary)\n",
    "    \n",
    "    std_dev= np.std(data)\n",
    "    print('Standard Deviation:',std_dev)\n",
    "\n",
    "\n"
   ]
  }
 ],
 "metadata": {
  "kernelspec": {
   "display_name": "Python 3 (ipykernel)",
   "language": "python",
   "name": "python3"
  },
  "language_info": {
   "codemirror_mode": {
    "name": "ipython",
    "version": 3
   },
   "file_extension": ".py",
   "mimetype": "text/x-python",
   "name": "python",
   "nbconvert_exporter": "python",
   "pygments_lexer": "ipython3",
   "version": "3.12.7"
  }
 },
 "nbformat": 4,
 "nbformat_minor": 5
}
